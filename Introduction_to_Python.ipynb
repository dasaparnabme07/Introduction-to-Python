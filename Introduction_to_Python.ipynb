{
  "nbformat": 4,
  "nbformat_minor": 0,
  "metadata": {
    "colab": {
      "provenance": [],
      "authorship_tag": "ABX9TyM4bMIsUlULe15cJtLDr3mq",
      "include_colab_link": true
    },
    "kernelspec": {
      "name": "python3",
      "display_name": "Python 3"
    },
    "language_info": {
      "name": "python"
    }
  },
  "cells": [
    {
      "cell_type": "markdown",
      "metadata": {
        "id": "view-in-github",
        "colab_type": "text"
      },
      "source": [
        "<a href=\"https://colab.research.google.com/github/dasaparnabme07/Introduction-to-Python/blob/main/Introduction_to_Python.ipynb\" target=\"_parent\"><img src=\"https://colab.research.google.com/assets/colab-badge.svg\" alt=\"Open In Colab\"/></a>"
      ]
    },
    {
      "cell_type": "code",
      "execution_count": null,
      "metadata": {
        "colab": {
          "base_uri": "https://localhost:8080/"
        },
        "id": "YIq8ixRSWQKv",
        "outputId": "81415492-a4e3-43a8-c9a3-5fb0b73fa311"
      },
      "outputs": [
        {
          "output_type": "stream",
          "name": "stdout",
          "text": [
            "Error:'str' object does not support item assignment\n",
            "Modified String:  Jello\n"
          ]
        }
      ],
      "source": [
        "original_string = \"Hello\"\n",
        "try:\n",
        "    original_string[0] = \"J\"\n",
        "except TypeError as e:\n",
        "    print (f\"Error:{e}\")\n",
        "\n",
        "modified_string = \"J\" + original_string[1:]\n",
        "print(\"Modified String: \", modified_string)"
      ]
    }
  ]
}