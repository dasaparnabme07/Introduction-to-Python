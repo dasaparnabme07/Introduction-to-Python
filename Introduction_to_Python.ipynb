{
  "nbformat": 4,
  "nbformat_minor": 0,
  "metadata": {
    "colab": {
      "provenance": [],
      "authorship_tag": "ABX9TyOC6nl67ZQcDo4xknqxSvRo",
      "include_colab_link": true
    },
    "kernelspec": {
      "name": "python3",
      "display_name": "Python 3"
    },
    "language_info": {
      "name": "python"
    }
  },
  "cells": [
    {
      "cell_type": "markdown",
      "metadata": {
        "id": "view-in-github",
        "colab_type": "text"
      },
      "source": [
        "<a href=\"https://colab.research.google.com/github/dasaparnabme07/Introduction-to-Python/blob/main/Introduction_to_Python.ipynb\" target=\"_parent\"><img src=\"https://colab.research.google.com/assets/colab-badge.svg\" alt=\"Open In Colab\"/></a>"
      ]
    },
    {
      "cell_type": "code",
      "execution_count": null,
      "metadata": {
        "colab": {
          "base_uri": "https://localhost:8080/"
        },
        "id": "YIq8ixRSWQKv",
        "outputId": "e2f6ef3a-93fa-422a-bfb9-7680d3f26d04"
      },
      "outputs": [
        {
          "output_type": "stream",
          "name": "stdout",
          "text": [
            "Error:'str' object does not support item assignment\n",
            "Modified String:  Jello\n"
          ]
        }
      ],
      "source": [
        "#original string\n",
        "original_string = \"Hello\"\n",
        "\n",
        "#attempt to change a character\n",
        "try:\n",
        "    original_string[0] = \"J\"\n",
        "except TypeError as e:\n",
        "    print (f\"Error:{e}\")\n",
        "\n",
        "# stings can not be changed because its immutable but we can modify the string\n",
        "modified_string = \"J\" + original_string[1:]\n",
        "print(\"Modified String: \", modified_string)"
      ]
    },
    {
      "cell_type": "code",
      "source": [
        "# Indexing\n",
        "char_at_position_2= original_string[2]\n",
        "print(\"Character at index 2:\",char_at_position_2)\n",
        "\n",
        "#slicing\n",
        "sub_string = original_string[1:4]\n",
        "print(\"Substring from index 1 to 4:\",sub_string)"
      ],
      "metadata": {
        "colab": {
          "base_uri": "https://localhost:8080/"
        },
        "id": "H3wpyv7q4fw5",
        "outputId": "5d75f3b1-07ba-4973-9fac-012d668c346d"
      },
      "execution_count": null,
      "outputs": [
        {
          "output_type": "stream",
          "name": "stdout",
          "text": [
            "Character at index 2: l\n",
            "Substring from index 1 to 4: ell\n"
          ]
        }
      ]
    },
    {
      "cell_type": "code",
      "source": [
        "#Concatenating string\n",
        "greeting = \"Hello\"\n",
        "name = \"Pias\"\n",
        "full_greeting = greeting + \",\" + name +\"!\"\n",
        "print (\"Full Greeting: \", full_greeting)"
      ],
      "metadata": {
        "id": "ySMsFH-v89XK",
        "colab": {
          "base_uri": "https://localhost:8080/"
        },
        "outputId": "c657a09f-4793-4ab9-d1a2-b6c37dae941f"
      },
      "execution_count": null,
      "outputs": [
        {
          "output_type": "stream",
          "name": "stdout",
          "text": [
            "Full Greeting:  Hello,Pias!\n"
          ]
        }
      ]
    },
    {
      "cell_type": "code",
      "source": [
        "#Repeating strings\n",
        "repeated_string = \"Pias\" * 5\n",
        "print(\"Repeated String: \", repeated_string)"
      ],
      "metadata": {
        "colab": {
          "base_uri": "https://localhost:8080/"
        },
        "id": "xoV45Z3F9JhH",
        "outputId": "cd2dadde-1576-472d-aa26-a42ecc279bd0"
      },
      "execution_count": null,
      "outputs": [
        {
          "output_type": "stream",
          "name": "stdout",
          "text": [
            "Repeated String:  PiasPiasPiasPiasPias\n"
          ]
        }
      ]
    },
    {
      "cell_type": "code",
      "source": [
        "#String formating using place holders\n",
        "into_format_name = \"My name is{name} and I am {age} years old.\".format(name= \" Pias\", age=25)\n",
        "print(\"Formatted String: \", into_format_name)"
      ],
      "metadata": {
        "colab": {
          "base_uri": "https://localhost:8080/"
        },
        "id": "LEYQPGmK9Ye1",
        "outputId": "a54fae76-4640-405c-da1a-12d3fcc85e66"
      },
      "execution_count": null,
      "outputs": [
        {
          "output_type": "stream",
          "name": "stdout",
          "text": [
            "Formatted String:  My name is Pias and I am 25 years old.\n"
          ]
        }
      ]
    },
    {
      "cell_type": "code",
      "source": [
        "#f-string with calculation\n",
        "name = \"Pias\"\n",
        "age = 5\n",
        "formatted_string = f\"My name is {name} and I am {age} years old.\"\n",
        "print(\"Formatted String: \", formatted_string)"
      ],
      "metadata": {
        "colab": {
          "base_uri": "https://localhost:8080/"
        },
        "id": "4J52Bvo7_Bpb",
        "outputId": "999c26e8-4758-4e1e-f835-807f4d5aad07"
      },
      "execution_count": null,
      "outputs": [
        {
          "output_type": "stream",
          "name": "stdout",
          "text": [
            "Formatted String:  My name is Pias and I am 5 years old.\n"
          ]
        }
      ]
    },
    {
      "cell_type": "code",
      "source": [
        "# f-string with calculation\n",
        "name = \"Pias\"\n",
        "age = 5\n",
        "square_age= f\"{name}'s age squared is {age**2}.\"\n",
        "print(\"f-string with calculation:\", square_age)"
      ],
      "metadata": {
        "colab": {
          "base_uri": "https://localhost:8080/"
        },
        "id": "XFU5VRKsNnSi",
        "outputId": "9f7ea565-8717-4996-d2e8-eeaf7391fe9a"
      },
      "execution_count": null,
      "outputs": [
        {
          "output_type": "stream",
          "name": "stdout",
          "text": [
            "f-string with calculation: Pias's age squared is 25.\n"
          ]
        }
      ]
    },
    {
      "cell_type": "markdown",
      "source": [
        "Lists"
      ],
      "metadata": {
        "id": "rEXuXEJwB6m-"
      }
    },
    {
      "cell_type": "code",
      "source": [
        "#python lists\n",
        "numbers= [1,2,3,4,5]\n",
        "print(\"List of numbers:\", numbers)\n",
        "\n",
        "# create a list with mixed datatypes\n",
        "mixed_list = [1, \"Hello\", 3.14, True]\n",
        "print(\"Mixed List:\", mixed_list)\n",
        "\n",
        "# access elements by index\n",
        "first_element = mixed_list[0]\n",
        "print(\"First Element:\", first_element)\n",
        "\n",
        "#modify elements by index\n",
        "mixed_list[0] = \"World\"\n",
        "print(\"Modified List:\", mixed_list)\n",
        "\n",
        "#append list\n",
        "numbers.append(6)\n",
        "print(\"Appended List:\", numbers)\n",
        "\n",
        "#extend list\n",
        "numbers.extend([7,8,9])\n",
        "print(\"Extended List:\", numbers)\n",
        "\n",
        "#insert list\n",
        "numbers.insert(0,0)\n",
        "print(\"Inserted List:\", numbers)\n",
        "\n",
        "#remove item\n",
        "numbers.remove(6)\n",
        "print(\"Removed List:\", numbers)\n",
        "\n",
        "#pop item\n",
        "popped_item = numbers.pop()\n",
        "print(\"Popped Item:\", popped_item)\n",
        "\n",
        "#remove an item from specific position\n",
        "del numbers[0]\n",
        "print(\"Deleted List:\", numbers)\n",
        "\n",
        "list_1= [1,2,3]\n",
        "list_2= [4,5,6]\n",
        "concatenated_list = list_1 + list_2\n",
        "print(\"Concatenated List:\", concatenated_list)\n",
        "\n",
        "#list Comprehension\n",
        "#create a list of squares from another list\n",
        "sqaurs = [x**2 for x in numbers]\n",
        "print(\"Squared List:\", sqaurs)\n",
        "\n",
        "#Filter the list to include only even numbers\n",
        "even_numbers = [x for x in numbers if x % 2 == 0]\n",
        "print(\"Even Numbers:\", even_numbers)\n",
        "\n",
        "fruits = ['apple', 'banana','cherry', 'orange']\n",
        "#using simple for loop to traverse the list\n",
        "for fruit in fruits:\n",
        "  print(fruit)\n",
        "\n",
        "#using enumerate to get both index and value\n",
        "for index, fruit in enumerate(fruits):\n",
        "  print(f\"Index: {index}, Fruit: {fruit}\")\n",
        "\n",
        "#Traverse with a while loop\n",
        "i= 0\n",
        "while i<len(fruits):\n",
        "  print(fruits[i])\n",
        "  i += 1"
      ],
      "metadata": {
        "id": "LUqw76d8UQEV",
        "outputId": "5d226e5f-ccc1-4b58-90aa-07cbfa91d4ba",
        "colab": {
          "base_uri": "https://localhost:8080/"
        }
      },
      "execution_count": 2,
      "outputs": [
        {
          "output_type": "stream",
          "name": "stdout",
          "text": [
            "List of numbers: [1, 2, 3, 4, 5]\n",
            "Mixed List: [1, 'Hello', 3.14, True]\n",
            "First Element: 1\n",
            "Modified List: ['World', 'Hello', 3.14, True]\n",
            "Appended List: [1, 2, 3, 4, 5, 6]\n",
            "Extended List: [1, 2, 3, 4, 5, 6, 7, 8, 9]\n",
            "Inserted List: [0, 1, 2, 3, 4, 5, 6, 7, 8, 9]\n",
            "Removed List: [0, 1, 2, 3, 4, 5, 7, 8, 9]\n",
            "Popped Item: 9\n",
            "Deleted List: [1, 2, 3, 4, 5, 7, 8]\n",
            "Concatenated List: [1, 2, 3, 4, 5, 6]\n",
            "Squared List: [1, 4, 9, 16, 25, 49, 64]\n",
            "Even Numbers: [2, 4, 8]\n",
            "apple\n",
            "banana\n",
            "cherry\n",
            "orange\n",
            "Index: 0, Fruit: apple\n",
            "Index: 1, Fruit: banana\n",
            "Index: 2, Fruit: cherry\n",
            "Index: 3, Fruit: orange\n",
            "apple\n",
            "banana\n",
            "cherry\n",
            "orange\n"
          ]
        }
      ]
    },
    {
      "cell_type": "markdown",
      "source": [
        "Python Dictionary"
      ],
      "metadata": {
        "id": "NBOX3UjwCJzt"
      }
    },
    {
      "cell_type": "code",
      "source": [],
      "metadata": {
        "id": "ep79K-xOBLBr"
      },
      "execution_count": null,
      "outputs": []
    },
    {
      "cell_type": "code",
      "source": [],
      "metadata": {
        "id": "LKJcYZDdCMtG"
      },
      "execution_count": null,
      "outputs": []
    }
  ]
}