{
  "nbformat": 4,
  "nbformat_minor": 0,
  "metadata": {
    "colab": {
      "provenance": [],
      "authorship_tag": "ABX9TyPqTDMvVEmgOHYONoS7Nzff",
      "include_colab_link": true
    },
    "kernelspec": {
      "name": "python3",
      "display_name": "Python 3"
    },
    "language_info": {
      "name": "python"
    }
  },
  "cells": [
    {
      "cell_type": "markdown",
      "metadata": {
        "id": "view-in-github",
        "colab_type": "text"
      },
      "source": [
        "<a href=\"https://colab.research.google.com/github/dasaparnabme07/Introduction-to-Python/blob/main/Introduction_to_Python.ipynb\" target=\"_parent\"><img src=\"https://colab.research.google.com/assets/colab-badge.svg\" alt=\"Open In Colab\"/></a>"
      ]
    },
    {
      "cell_type": "code",
      "execution_count": 4,
      "metadata": {
        "colab": {
          "base_uri": "https://localhost:8080/"
        },
        "id": "YIq8ixRSWQKv",
        "outputId": "e2f6ef3a-93fa-422a-bfb9-7680d3f26d04"
      },
      "outputs": [
        {
          "output_type": "stream",
          "name": "stdout",
          "text": [
            "Error:'str' object does not support item assignment\n",
            "Modified String:  Jello\n"
          ]
        }
      ],
      "source": [
        "#original string\n",
        "original_string = \"Hello\"\n",
        "\n",
        "#attempt to change a character\n",
        "try:\n",
        "    original_string[0] = \"J\"\n",
        "except TypeError as e:\n",
        "    print (f\"Error:{e}\")\n",
        "\n",
        "# stings can not be changed because its immutable but we can modify the string\n",
        "modified_string = \"J\" + original_string[1:]\n",
        "print(\"Modified String: \", modified_string)"
      ]
    },
    {
      "cell_type": "code",
      "source": [
        "# Indexing\n",
        "char_at_position_2= original_string[2]\n",
        "print(\"Character at index 2:\",char_at_position_2)\n",
        "\n",
        "#slicing\n",
        "sub_string = original_string[1:4]\n",
        "print(\"Substring from index 1 to 4:\",sub_string)"
      ],
      "metadata": {
        "colab": {
          "base_uri": "https://localhost:8080/"
        },
        "id": "H3wpyv7q4fw5",
        "outputId": "5d75f3b1-07ba-4973-9fac-012d668c346d"
      },
      "execution_count": 8,
      "outputs": [
        {
          "output_type": "stream",
          "name": "stdout",
          "text": [
            "Character at index 2: l\n",
            "Substring from index 1 to 4: ell\n"
          ]
        }
      ]
    },
    {
      "cell_type": "code",
      "source": [],
      "metadata": {
        "id": "ySMsFH-v89XK"
      },
      "execution_count": null,
      "outputs": []
    }
  ]
}