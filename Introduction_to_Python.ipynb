{
  "nbformat": 4,
  "nbformat_minor": 0,
  "metadata": {
    "colab": {
      "provenance": [],
      "authorship_tag": "ABX9TyPeJ89HUc8hwjsYfFt6FWsz",
      "include_colab_link": true
    },
    "kernelspec": {
      "name": "python3",
      "display_name": "Python 3"
    },
    "language_info": {
      "name": "python"
    }
  },
  "cells": [
    {
      "cell_type": "markdown",
      "metadata": {
        "id": "view-in-github",
        "colab_type": "text"
      },
      "source": [
        "<a href=\"https://colab.research.google.com/github/dasaparnabme07/Introduction-to-Python/blob/main/Introduction_to_Python.ipynb\" target=\"_parent\"><img src=\"https://colab.research.google.com/assets/colab-badge.svg\" alt=\"Open In Colab\"/></a>"
      ]
    },
    {
      "cell_type": "code",
      "execution_count": null,
      "metadata": {
        "colab": {
          "base_uri": "https://localhost:8080/"
        },
        "id": "YIq8ixRSWQKv",
        "outputId": "e2f6ef3a-93fa-422a-bfb9-7680d3f26d04"
      },
      "outputs": [
        {
          "output_type": "stream",
          "name": "stdout",
          "text": [
            "Error:'str' object does not support item assignment\n",
            "Modified String:  Jello\n"
          ]
        }
      ],
      "source": [
        "#original string\n",
        "original_string = \"Hello\"\n",
        "\n",
        "#attempt to change a character\n",
        "try:\n",
        "    original_string[0] = \"J\"\n",
        "except TypeError as e:\n",
        "    print (f\"Error:{e}\")\n",
        "\n",
        "# stings can not be changed because its immutable but we can modify the string\n",
        "modified_string = \"J\" + original_string[1:]\n",
        "print(\"Modified String: \", modified_string)"
      ]
    },
    {
      "cell_type": "code",
      "source": [
        "# Indexing\n",
        "char_at_position_2= original_string[2]\n",
        "print(\"Character at index 2:\",char_at_position_2)\n",
        "\n",
        "#slicing\n",
        "sub_string = original_string[1:4]\n",
        "print(\"Substring from index 1 to 4:\",sub_string)"
      ],
      "metadata": {
        "colab": {
          "base_uri": "https://localhost:8080/"
        },
        "id": "H3wpyv7q4fw5",
        "outputId": "5d75f3b1-07ba-4973-9fac-012d668c346d"
      },
      "execution_count": null,
      "outputs": [
        {
          "output_type": "stream",
          "name": "stdout",
          "text": [
            "Character at index 2: l\n",
            "Substring from index 1 to 4: ell\n"
          ]
        }
      ]
    },
    {
      "cell_type": "code",
      "source": [
        "#Concatenating string\n",
        "greeting = \"Hello\"\n",
        "name = \"Pias\"\n",
        "full_greeting = greeting + \",\" + name +\"!\"\n",
        "print (\"Full Greeting: \", full_greeting)"
      ],
      "metadata": {
        "id": "ySMsFH-v89XK",
        "colab": {
          "base_uri": "https://localhost:8080/"
        },
        "outputId": "c657a09f-4793-4ab9-d1a2-b6c37dae941f"
      },
      "execution_count": 2,
      "outputs": [
        {
          "output_type": "stream",
          "name": "stdout",
          "text": [
            "Full Greeting:  Hello,Pias!\n"
          ]
        }
      ]
    },
    {
      "cell_type": "code",
      "source": [
        "#Repeating strings\n",
        "repeated_string = \"Pias\" * 5\n",
        "print(\"Repeated String: \", repeated_string)"
      ],
      "metadata": {
        "colab": {
          "base_uri": "https://localhost:8080/"
        },
        "id": "xoV45Z3F9JhH",
        "outputId": "cd2dadde-1576-472d-aa26-a42ecc279bd0"
      },
      "execution_count": 3,
      "outputs": [
        {
          "output_type": "stream",
          "name": "stdout",
          "text": [
            "Repeated String:  PiasPiasPiasPiasPias\n"
          ]
        }
      ]
    },
    {
      "cell_type": "code",
      "source": [
        "#String formating using place holders\n",
        "into_format_name = \"My name is{name} and I am {age} years old.\".format(name= \" Pias\", age=25)\n",
        "print(\"Formatted String: \", into_format_name)"
      ],
      "metadata": {
        "colab": {
          "base_uri": "https://localhost:8080/"
        },
        "id": "LEYQPGmK9Ye1",
        "outputId": "a54fae76-4640-405c-da1a-12d3fcc85e66"
      },
      "execution_count": 7,
      "outputs": [
        {
          "output_type": "stream",
          "name": "stdout",
          "text": [
            "Formatted String:  My name is Pias and I am 25 years old.\n"
          ]
        }
      ]
    },
    {
      "cell_type": "code",
      "source": [
        "#f-string with calculation\n",
        "name = \"Pias\"\n",
        "age = 5\n",
        "formatted_string = f\"My name is {name} and I am {age} years old.\"\n",
        "print(\"Formatted String: \", formatted_string)"
      ],
      "metadata": {
        "colab": {
          "base_uri": "https://localhost:8080/"
        },
        "id": "4J52Bvo7_Bpb",
        "outputId": "999c26e8-4758-4e1e-f835-807f4d5aad07"
      },
      "execution_count": 8,
      "outputs": [
        {
          "output_type": "stream",
          "name": "stdout",
          "text": [
            "Formatted String:  My name is Pias and I am 5 years old.\n"
          ]
        }
      ]
    },
    {
      "cell_type": "code",
      "source": [
        "# f-string with calculation\n",
        "name = \"Pias\"\n",
        "age = 5\n",
        "square_age= f\"{name}'s age squared is {age**2}.\"\n",
        "print(\"f-string with calculation:\", square_age)"
      ],
      "metadata": {
        "colab": {
          "base_uri": "https://localhost:8080/"
        },
        "id": "XFU5VRKsNnSi",
        "outputId": "9f7ea565-8717-4996-d2e8-eeaf7391fe9a"
      },
      "execution_count": 10,
      "outputs": [
        {
          "output_type": "stream",
          "name": "stdout",
          "text": [
            "f-string with calculation: Pias's age squared is 25.\n"
          ]
        }
      ]
    },
    {
      "cell_type": "code",
      "source": [],
      "metadata": {
        "id": "LUqw76d8UQEV"
      },
      "execution_count": null,
      "outputs": []
    }
  ]
}