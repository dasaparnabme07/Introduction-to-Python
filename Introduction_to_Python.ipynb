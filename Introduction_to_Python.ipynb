{
  "nbformat": 4,
  "nbformat_minor": 0,
  "metadata": {
    "colab": {
      "provenance": [],
      "authorship_tag": "ABX9TyOE3za6NOAwCiKe+mLClyyb",
      "include_colab_link": true
    },
    "kernelspec": {
      "name": "python3",
      "display_name": "Python 3"
    },
    "language_info": {
      "name": "python"
    }
  },
  "cells": [
    {
      "cell_type": "markdown",
      "metadata": {
        "id": "view-in-github",
        "colab_type": "text"
      },
      "source": [
        "<a href=\"https://colab.research.google.com/github/dasaparnabme07/Introduction-to-Python/blob/main/Introduction_to_Python.ipynb\" target=\"_parent\"><img src=\"https://colab.research.google.com/assets/colab-badge.svg\" alt=\"Open In Colab\"/></a>"
      ]
    },
    {
      "cell_type": "code",
      "execution_count": null,
      "metadata": {
        "colab": {
          "base_uri": "https://localhost:8080/"
        },
        "id": "YIq8ixRSWQKv",
        "outputId": "e2f6ef3a-93fa-422a-bfb9-7680d3f26d04"
      },
      "outputs": [
        {
          "output_type": "stream",
          "name": "stdout",
          "text": [
            "Error:'str' object does not support item assignment\n",
            "Modified String:  Jello\n"
          ]
        }
      ],
      "source": [
        "#original string\n",
        "original_string = \"Hello\"\n",
        "\n",
        "#attempt to change a character\n",
        "try:\n",
        "    original_string[0] = \"J\"\n",
        "except TypeError as e:\n",
        "    print (f\"Error:{e}\")\n",
        "\n",
        "# stings can not be changed because its immutable but we can modify the string\n",
        "modified_string = \"J\" + original_string[1:]\n",
        "print(\"Modified String: \", modified_string)"
      ]
    },
    {
      "cell_type": "code",
      "source": [
        "# Indexing\n",
        "char_at_position_2= original_string[2]\n",
        "print(\"Character at index 2:\",char_at_position_2)\n",
        "\n",
        "#slicing\n",
        "sub_string = original_string[1:4]\n",
        "print(\"Substring from index 1 to 4:\",sub_string)"
      ],
      "metadata": {
        "colab": {
          "base_uri": "https://localhost:8080/"
        },
        "id": "H3wpyv7q4fw5",
        "outputId": "5d75f3b1-07ba-4973-9fac-012d668c346d"
      },
      "execution_count": null,
      "outputs": [
        {
          "output_type": "stream",
          "name": "stdout",
          "text": [
            "Character at index 2: l\n",
            "Substring from index 1 to 4: ell\n"
          ]
        }
      ]
    },
    {
      "cell_type": "code",
      "source": [
        "#Concatenating string\n",
        "greeting = \"Hello\"\n",
        "name = \"Pias\"\n",
        "full_greeting = greeting + \",\" + name +\"!\"\n",
        "print (\"Full Greeting: \", full_greeting)"
      ],
      "metadata": {
        "id": "ySMsFH-v89XK",
        "colab": {
          "base_uri": "https://localhost:8080/"
        },
        "outputId": "c657a09f-4793-4ab9-d1a2-b6c37dae941f"
      },
      "execution_count": null,
      "outputs": [
        {
          "output_type": "stream",
          "name": "stdout",
          "text": [
            "Full Greeting:  Hello,Pias!\n"
          ]
        }
      ]
    },
    {
      "cell_type": "code",
      "source": [
        "#Repeating strings\n",
        "repeated_string = \"Pias\" * 5\n",
        "print(\"Repeated String: \", repeated_string)"
      ],
      "metadata": {
        "colab": {
          "base_uri": "https://localhost:8080/"
        },
        "id": "xoV45Z3F9JhH",
        "outputId": "cd2dadde-1576-472d-aa26-a42ecc279bd0"
      },
      "execution_count": null,
      "outputs": [
        {
          "output_type": "stream",
          "name": "stdout",
          "text": [
            "Repeated String:  PiasPiasPiasPiasPias\n"
          ]
        }
      ]
    },
    {
      "cell_type": "code",
      "source": [
        "#String formating using place holders\n",
        "into_format_name = \"My name is{name} and I am {age} years old.\".format(name= \" Pias\", age=25)\n",
        "print(\"Formatted String: \", into_format_name)"
      ],
      "metadata": {
        "colab": {
          "base_uri": "https://localhost:8080/"
        },
        "id": "LEYQPGmK9Ye1",
        "outputId": "a54fae76-4640-405c-da1a-12d3fcc85e66"
      },
      "execution_count": null,
      "outputs": [
        {
          "output_type": "stream",
          "name": "stdout",
          "text": [
            "Formatted String:  My name is Pias and I am 25 years old.\n"
          ]
        }
      ]
    },
    {
      "cell_type": "code",
      "source": [
        "#f-string with calculation\n",
        "name = \"Pias\"\n",
        "age = 5\n",
        "formatted_string = f\"My name is {name} and I am {age} years old.\"\n",
        "print(\"Formatted String: \", formatted_string)"
      ],
      "metadata": {
        "colab": {
          "base_uri": "https://localhost:8080/"
        },
        "id": "4J52Bvo7_Bpb",
        "outputId": "999c26e8-4758-4e1e-f835-807f4d5aad07"
      },
      "execution_count": null,
      "outputs": [
        {
          "output_type": "stream",
          "name": "stdout",
          "text": [
            "Formatted String:  My name is Pias and I am 5 years old.\n"
          ]
        }
      ]
    },
    {
      "cell_type": "code",
      "source": [
        "# f-string with calculation\n",
        "name = \"Pias\"\n",
        "age = 5\n",
        "square_age= f\"{name}'s age squared is {age**2}.\"\n",
        "print(\"f-string with calculation:\", square_age)"
      ],
      "metadata": {
        "colab": {
          "base_uri": "https://localhost:8080/"
        },
        "id": "XFU5VRKsNnSi",
        "outputId": "9f7ea565-8717-4996-d2e8-eeaf7391fe9a"
      },
      "execution_count": null,
      "outputs": [
        {
          "output_type": "stream",
          "name": "stdout",
          "text": [
            "f-string with calculation: Pias's age squared is 25.\n"
          ]
        }
      ]
    },
    {
      "cell_type": "markdown",
      "source": [
        "Lists"
      ],
      "metadata": {
        "id": "rEXuXEJwB6m-"
      }
    },
    {
      "cell_type": "code",
      "source": [
        "#python lists\n",
        "numbers= [1,2,3,4,5]\n",
        "print(\"List of numbers:\", numbers)\n",
        "\n",
        "# create a list with mixed datatypes\n",
        "mixed_list = [1, \"Hello\", 3.14, True]\n",
        "print(\"Mixed List:\", mixed_list)\n",
        "\n",
        "# access elements by index\n",
        "first_element = mixed_list[0]\n",
        "print(\"First Element:\", first_element)\n",
        "\n",
        "#modify elements by index\n",
        "mixed_list[0] = \"World\"\n",
        "print(\"Modified List:\", mixed_list)\n",
        "\n",
        "#append list\n",
        "numbers.append(6)\n",
        "print(\"Appended List:\", numbers)\n",
        "\n",
        "#extend list\n",
        "numbers.extend([7,8,9])\n",
        "print(\"Extended List:\", numbers)\n",
        "\n",
        "#insert list\n",
        "numbers.insert(0,0)\n",
        "print(\"Inserted List:\", numbers)\n",
        "\n",
        "#remove item\n",
        "numbers.remove(6)\n",
        "print(\"Removed List:\", numbers)\n",
        "\n",
        "#pop item\n",
        "popped_item = numbers.pop()\n",
        "print(\"Popped Item:\", popped_item)\n",
        "\n",
        "#remove an item from specific position\n",
        "del numbers[0]\n",
        "print(\"Deleted List:\", numbers)\n",
        "\n",
        "list_1= [1,2,3]\n",
        "list_2= [4,5,6]\n",
        "concatenated_list = list_1 + list_2\n",
        "print(\"Concatenated List:\", concatenated_list)\n",
        "\n",
        "#list Comprehension\n",
        "#create a list of squares from another list\n",
        "sqaurs = [x**2 for x in numbers]\n",
        "print(\"Squared List:\", sqaurs)\n",
        "\n",
        "#Filter the list to include only even numbers\n",
        "even_numbers = [x for x in numbers if x % 2 == 0]\n",
        "print(\"Even Numbers:\", even_numbers)\n",
        "\n",
        "fruits = ['apple', 'banana','cherry', 'orange']\n",
        "#using simple for loop to traverse the list\n",
        "for fruit in fruits:\n",
        "  print(fruit)\n",
        "\n",
        "#using enumerate to get both index and value\n",
        "for index, fruit in enumerate(fruits):\n",
        "  print(f\"Index: {index}, Fruit: {fruit}\")\n",
        "\n",
        "#Traverse with a while loop\n",
        "i= 0\n",
        "while i<len(fruits):\n",
        "  print(fruits[i])\n",
        "  i += 1"
      ],
      "metadata": {
        "id": "LUqw76d8UQEV",
        "outputId": "5d226e5f-ccc1-4b58-90aa-07cbfa91d4ba",
        "colab": {
          "base_uri": "https://localhost:8080/"
        }
      },
      "execution_count": null,
      "outputs": [
        {
          "output_type": "stream",
          "name": "stdout",
          "text": [
            "List of numbers: [1, 2, 3, 4, 5]\n",
            "Mixed List: [1, 'Hello', 3.14, True]\n",
            "First Element: 1\n",
            "Modified List: ['World', 'Hello', 3.14, True]\n",
            "Appended List: [1, 2, 3, 4, 5, 6]\n",
            "Extended List: [1, 2, 3, 4, 5, 6, 7, 8, 9]\n",
            "Inserted List: [0, 1, 2, 3, 4, 5, 6, 7, 8, 9]\n",
            "Removed List: [0, 1, 2, 3, 4, 5, 7, 8, 9]\n",
            "Popped Item: 9\n",
            "Deleted List: [1, 2, 3, 4, 5, 7, 8]\n",
            "Concatenated List: [1, 2, 3, 4, 5, 6]\n",
            "Squared List: [1, 4, 9, 16, 25, 49, 64]\n",
            "Even Numbers: [2, 4, 8]\n",
            "apple\n",
            "banana\n",
            "cherry\n",
            "orange\n",
            "Index: 0, Fruit: apple\n",
            "Index: 1, Fruit: banana\n",
            "Index: 2, Fruit: cherry\n",
            "Index: 3, Fruit: orange\n",
            "apple\n",
            "banana\n",
            "cherry\n",
            "orange\n"
          ]
        }
      ]
    },
    {
      "cell_type": "markdown",
      "source": [
        "Python Dictionary"
      ],
      "metadata": {
        "id": "NBOX3UjwCJzt"
      }
    },
    {
      "cell_type": "code",
      "source": [
        "#Creating a Dictionary\n",
        "person = {\n",
        "    'name': 'Pias',\n",
        "    'age': 25,\n",
        "    'city': 'Calgary'\n",
        "}\n",
        "print('Person:',person)\n",
        "\n",
        "#Accessing Elements\n",
        "# we can use either [] or use get () method\n",
        "# using get() is safer because it prevents key error\n",
        "print(person['name'])\n",
        "print(person.get('age'))\n",
        "print(person.get('profession','unknown'))\n",
        "\n",
        "# Adding a new key-value pair\n",
        "person['profession'] = 'Engineer'\n",
        "#Changing an existing value\n",
        "person['age']=27\n",
        "print(person.get('age'))\n",
        "print(person.get('profession'))\n",
        "\n",
        "#Removing an element using del\n",
        "del person['city']\n",
        "print(person)\n",
        "#Remove Element using Pop\n",
        "age = person.pop('age')\n",
        "print('age')\n",
        "#Remove using Popitem\n",
        "item= person.popitem()\n",
        "print('person')\n",
        "\n",
        "# Loop through the keys\n",
        "for key in person:\n",
        "    print(key, person['name'])\n",
        "#Loop through keys and values\n",
        "for key, value in person.items():\n",
        "    print(key, value)\n",
        "#Dictionary Comprehension\n",
        "sqaures = {x: x*x for x in range(1,6)}\n",
        "print(sqaures)\n"
      ],
      "metadata": {
        "id": "ep79K-xOBLBr",
        "outputId": "d92e755a-922a-4dc4-ab2f-3a467f3b860e",
        "colab": {
          "base_uri": "https://localhost:8080/"
        }
      },
      "execution_count": null,
      "outputs": [
        {
          "output_type": "stream",
          "name": "stdout",
          "text": [
            "Person: {'name': 'Pias', 'age': 25, 'city': 'Calgary'}\n",
            "Pias\n",
            "25\n",
            "unknown\n",
            "27\n",
            "Engineer\n",
            "{'name': 'Pias', 'age': 27, 'profession': 'Engineer'}\n",
            "age\n",
            "person\n",
            "name Pias\n",
            "name Pias\n",
            "{1: 1, 2: 4, 3: 9, 4: 16, 5: 25}\n"
          ]
        }
      ]
    },
    {
      "cell_type": "markdown",
      "source": [
        "Python Tuples"
      ],
      "metadata": {
        "id": "MAvWVZHLMAVl"
      }
    },
    {
      "cell_type": "code",
      "source": [
        "#creating a touple\n",
        "numbers = (1,2,3,4,5)\n",
        "print(numbers)\n",
        "\n",
        "#slicing\n",
        "print(numbers[1:4])\n",
        "\n",
        "#built in methods\n",
        "print(numbers.count(2))\n",
        "print(numbers.index(3))"
      ],
      "metadata": {
        "id": "LKJcYZDdCMtG",
        "outputId": "130b1ab7-aad6-4295-e5d6-24e206604300",
        "colab": {
          "base_uri": "https://localhost:8080/"
        }
      },
      "execution_count": null,
      "outputs": [
        {
          "output_type": "stream",
          "name": "stdout",
          "text": [
            "(1, 2, 3, 4, 5)\n",
            "(2, 3, 4)\n",
            "1\n",
            "2\n"
          ]
        }
      ]
    },
    {
      "cell_type": "markdown",
      "source": [
        "Python Sets"
      ],
      "metadata": {
        "id": "sKBs2vb7Nev-"
      }
    },
    {
      "cell_type": "code",
      "source": [
        "#creating a set\n",
        "fruits = {'apple', 'banana', 'cherry'}\n",
        "print(fruits)\n",
        "\n",
        "#creating a set from a list\n",
        "numbers = [1,2,3,4,5]\n",
        "numbers_set = set(numbers)\n",
        "print(numbers_set)\n",
        "\n",
        "#creating empty set\n",
        "empty_set = set()\n",
        "print(empty_set)\n",
        "\n",
        "#adding elements\n",
        "fruits.add('orange')\n",
        "print(fruits)\n",
        "\n",
        "#removing elements\n",
        "fruits.remove('banana')\n",
        "print(fruits)\n",
        "\n",
        "#Remove and return an arbitary set element using pop()\n",
        "removed_element = fruits.pop()\n",
        "print(removed_element)\n",
        "print(fruits)\n",
        "\n",
        "#set operations\n",
        "set1 = {1,2,3,4}\n",
        "set2 = {3,4,5,6}\n",
        "\n",
        "#union\n",
        "union_set = set1.union(set2)\n",
        "print(union_set)\n",
        "\n",
        "#intersection\n",
        "intersection_set = set1.intersection(set2)\n",
        "print(intersection_set)\n",
        "\n",
        "#difference\n",
        "difference_set = set1.difference(set2)\n",
        "print(difference_set)\n",
        "\n",
        "#symmetric difference\n",
        "symmetric_difference_set = set1.symmetric_difference(set2)\n",
        "print(symmetric_difference_set)\n",
        "\n",
        "#creating frozen set\n",
        "frozen_set = frozenset(fruits)\n",
        "print(frozen_set)\n"
      ],
      "metadata": {
        "id": "WGVyaiHqNdke",
        "outputId": "f3c0fe1a-f5ce-4987-9c0a-7f48522765ef",
        "colab": {
          "base_uri": "https://localhost:8080/"
        }
      },
      "execution_count": null,
      "outputs": [
        {
          "output_type": "stream",
          "name": "stdout",
          "text": [
            "{'apple', 'cherry', 'banana'}\n",
            "{1, 2, 3, 4, 5}\n",
            "set()\n",
            "{'apple', 'cherry', 'orange', 'banana'}\n",
            "{'apple', 'cherry', 'orange'}\n",
            "apple\n",
            "{'cherry', 'orange'}\n",
            "{1, 2, 3, 4, 5, 6}\n",
            "{3, 4}\n",
            "{1, 2}\n",
            "{1, 2, 5, 6}\n",
            "frozenset({'cherry', 'orange'})\n"
          ]
        }
      ]
    },
    {
      "cell_type": "markdown",
      "source": [
        "Python Functions"
      ],
      "metadata": {
        "id": "eGAv7O51PZgp"
      }
    },
    {
      "cell_type": "code",
      "source": [
        "#define a function to add two numbers\n",
        "def add(x,y):\n",
        "  return x+y\n",
        "def sub(x,y):\n",
        "  return x-y\n",
        "def mul(x,y):\n",
        "  return x*y\n",
        "def div(x,y):\n",
        "  if y == 0:\n",
        "    return \"Cannot divide by zero\"\n",
        "  else:\n",
        "    return x/y\n",
        "\n",
        "#main program for arithmatic functions\n",
        "def main():\n",
        "  print('Addition:', add(5,3))\n",
        "  print('Subtraction:', sub(5,3))\n",
        "  print('Multiplication:', mul(5,3))\n",
        "  print('Division:', div(5,3))\n",
        "\n",
        "if __name__ == '__main__':\n",
        "  main()"
      ],
      "metadata": {
        "id": "V7SouTDAPdeG",
        "outputId": "0ea14779-6c98-4e55-a84c-59e33b861d14",
        "colab": {
          "base_uri": "https://localhost:8080/"
        }
      },
      "execution_count": null,
      "outputs": [
        {
          "output_type": "stream",
          "name": "stdout",
          "text": [
            "Addition: 8\n",
            "Subtraction: 2\n",
            "Multiplication: 15\n",
            "Division: 1.6666666666666667\n"
          ]
        }
      ]
    },
    {
      "cell_type": "code",
      "source": [
        "import math\n",
        "\n",
        "def area_of_circle(radius):\n",
        "  return math.pi * radius**2\n",
        "print(area_of_circle(5))"
      ],
      "metadata": {
        "id": "OIokRvB6eYny",
        "outputId": "89012f42-f180-4010-8fa7-2fcbccb259b3",
        "colab": {
          "base_uri": "https://localhost:8080/"
        }
      },
      "execution_count": null,
      "outputs": [
        {
          "output_type": "stream",
          "name": "stdout",
          "text": [
            "78.53981633974483\n"
          ]
        }
      ]
    },
    {
      "cell_type": "code",
      "source": [
        "#Special Functions\n",
        "add = lambda x,y: x+y\n",
        "print(add(5,3))\n",
        "\n",
        "numbers = [1,2,3,4,5]\n",
        "squared_numbers = list(map(lambda x: x**2, numbers))\n",
        "print(squared_numbers)\n",
        "\n",
        "even_numbers = list(filter(lambda x: x%2==0, numbers))\n",
        "print(even_numbers)\n",
        "\n",
        "#Generators\n",
        "def count_up_to(max):\n",
        "  count = 1\n",
        "  while count <= max:\n",
        "    yield count\n",
        "    count +=1\n",
        "\n",
        "#using generator\n",
        "counter = count_up_to(5)\n",
        "for num in counter:\n",
        "  print(num)\n",
        "\n",
        "#Decorators\n",
        "def logger(func):\n",
        "  def wrapper(*args, **kwargs):\n",
        "    print(f\"Calling {func.__name__} with args: {args}, kwargs: {kwargs}\")\n",
        "    result = func(*args, **kwargs)\n",
        "    print(f\"{func.__name__} returned: {result}\")\n",
        "    return result\n",
        "  return wrapper\n",
        "\n",
        "@logger\n",
        "def add(x,y):\n",
        "  return x+y\n",
        "add(5,3)"
      ],
      "metadata": {
        "id": "zhf-Kg8odZyx",
        "outputId": "ac71d237-d531-4e41-b057-4d528bc19756",
        "colab": {
          "base_uri": "https://localhost:8080/"
        }
      },
      "execution_count": 5,
      "outputs": [
        {
          "output_type": "stream",
          "name": "stdout",
          "text": [
            "8\n",
            "[1, 4, 9, 16, 25]\n",
            "[2, 4]\n",
            "1\n",
            "2\n",
            "3\n",
            "4\n",
            "5\n",
            "Calling add with args: (5, 3), kwargs: {}\n",
            "add returned: 8\n"
          ]
        },
        {
          "output_type": "execute_result",
          "data": {
            "text/plain": [
              "8"
            ]
          },
          "metadata": {},
          "execution_count": 5
        }
      ]
    },
    {
      "cell_type": "code",
      "source": [],
      "metadata": {
        "id": "4Zo7Z35p4pLN"
      },
      "execution_count": null,
      "outputs": []
    }
  ]
}